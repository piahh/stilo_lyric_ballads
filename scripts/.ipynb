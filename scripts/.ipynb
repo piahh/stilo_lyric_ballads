{
 "cells": [
  {
   "cell_type": "code",
   "execution_count": 2,
   "metadata": {},
   "outputs": [],
   "source": [
    "import os.path\n",
    "from os import path\n",
    "import random"
   ]
  },
  {
   "cell_type": "code",
   "execution_count": 8,
   "metadata": {},
   "outputs": [],
   "source": [
    "path = '/home/piah/Dokumente/Uni/Projektarbeit/Projektarbeit_LyrikGattungszuweisung/corpus/corpus/Angepasst_Größe/segments/Balladen/1000/'\n",
    "filelist = []\n",
    "for file in os.listdir(path):\n",
    "        if file.endswith('.txt'):\n",
    "            filelist.append(file)\n",
    "            \n",
    "sampled_list = random.sample(filelist, 40)\n",
    "for i in sampled_list:\n",
    "    if os.path.exists('/home/piah/Dokumente/Uni/Projektarbeit/Projektarbeit_LyrikGattungszuweisung/corpus/corpus/Angepasst_Größe/segments/Balladen/1000/' + i):\n",
    "        os.remove('/home/piah/Dokumente/Uni/Projektarbeit/Projektarbeit_LyrikGattungszuweisung/corpus/corpus/Angepasst_Größe/segments/Balladen/1000/' + i)"
   ]
  },
  {
   "cell_type": "code",
   "execution_count": null,
   "metadata": {},
   "outputs": [],
   "source": []
  }
 ],
 "metadata": {
  "kernelspec": {
   "display_name": "Python 3",
   "language": "python",
   "name": "python3"
  },
  "language_info": {
   "codemirror_mode": {
    "name": "ipython",
    "version": 3
   },
   "file_extension": ".py",
   "mimetype": "text/x-python",
   "name": "python",
   "nbconvert_exporter": "python",
   "pygments_lexer": "ipython3",
   "version": "3.8.6"
  }
 },
 "nbformat": 4,
 "nbformat_minor": 4
}
