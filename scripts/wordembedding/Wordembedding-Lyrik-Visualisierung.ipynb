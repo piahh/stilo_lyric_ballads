{
 "cells": [
  {
   "cell_type": "markdown",
   "metadata": {},
   "source": [
    "## Wordembedding"
   ]
  },
  {
   "cell_type": "code",
   "execution_count": 2,
   "metadata": {},
   "outputs": [],
   "source": [
    "import json\n",
    "import random\n",
    "import statistics\n",
    "from pathlib import Path\n",
    "from collections import defaultdict\n",
    "import os\n",
    "import glob\n",
    "\n",
    "import syntok.segmenter as segmenter\n",
    "import numpy as np\n",
    "import pandas as pd\n",
    "import matplotlib.pyplot as plt\n",
    "from flair.data import Sentence\n",
    "from flair.embeddings import TransformerWordEmbeddings\n",
    "from scipy import spatial\n",
    "from scipy.ndimage.filters import gaussian_filter1d\n",
    "\n",
    "import ipywidgets\n",
    "from ipywidgets import IntProgress\n",
    "\n",
    "import matplotlib.pyplot as plt"
   ]
  },
  {
   "cell_type": "markdown",
   "metadata": {},
   "source": [
    "### alle Sätze auswählen die Emotionen beinhalten"
   ]
  },
  {
   "cell_type": "code",
   "execution_count": 3,
   "metadata": {},
   "outputs": [
    {
     "name": "stdout",
     "output_type": "stream",
     "text": [
      "[<Token '' : 'um' @ 0>, <Token ' ' : 'bei' @ 3>, <Token ' ' : 'du' @ 7>, <Token ' ' : 'zu' @ 10>, <Token ' ' : 'sein' @ 13>, <Token '   ' : 'trügen' @ 20>, <Token ' ' : 'ich' @ 27>, <Token ' ' : 'not' @ 31>, <Token ' ' : 'und' @ 35>, <Token ' ' : 'fährde' @ 39>, <Token '   ' : 'lassen' @ 48>, <Token ' ' : 'ich' @ 55>, <Token ' ' : 'freund' @ 59>, <Token ' ' : 'und' @ 66>, <Token ' ' : 'haus' @ 70>, <Token ' ' : 'und' @ 75>, <Token ' ' : 'die' @ 79>, <Token ' ' : 'fülle' @ 83>, <Token ' ' : 'die' @ 89>, <Token ' ' : 'erde' @ 93>, <Token '   ' : 'ich' @ 100>, <Token ' ' : 'verlangen' @ 104>, <Token ' ' : 'nach' @ 114>, <Token ' ' : 'du' @ 119>, <Token '   ' : 'wie' @ 124>, <Token ' ' : 'die' @ 128>, <Token ' ' : 'flut' @ 132>, <Token ' ' : 'nach' @ 137>, <Token ' ' : 'die' @ 142>, <Token ' ' : 'strand' @ 146>, <Token '   ' : 'wie' @ 155>, <Token ' ' : 'die' @ 159>, <Token ' ' : 'schwalbe' @ 163>, <Token ' ' : 'in+die' @ 172>, <Token ' ' : 'herbst' @ 179>, <Token ' ' : 'nach' @ 186>, <Token ' ' : 'die' @ 191>, <Token ' ' : 'südlich' @ 195>, <Token ' ' : 'land' @ 203>, <Token '   ' : 'wie' @ 210>, <Token ' ' : 'die' @ 214>, <Token ' ' : 'alpsohn' @ 218>, <Token ' ' : 'heim' @ 226>, <Token '   ' : 'wenn' @ 233>, <Token ' ' : 'er' @ 238>, <Token ' ' : 'denken' @ 241>, <Token '   ' : 'nachts' @ 250>, <Token ' ' : 'alleine' @ 257>, <Token '   ' : 'an' @ 267>, <Token ' ' : 'die' @ 270>, <Token ' ' : 'berg' @ 274>, <Token ' ' : 'voll' @ 279>, <Token ' ' : 'schnee' @ 284>, <Token ' ' : 'in+die' @ 291>, <Token ' ' : 'mondenscheine' @ 298>, <Token '   ' : '' @ 314>]\n"
     ]
    }
   ],
   "source": [
    "emotion = ['liebreich','angst', 'ängstlich', 'trauer', 'traurig', 'zornig', 'zorn', 'verachtungsvoll', 'verachtung',\n",
    "           'schuld', 'schuldig', 'liebe',  'geliebt', 'liebevoll', 'stolz', 'scham', 'schämen', 'überrasschung',\n",
    "           'überrascht', 'sorge', 'sorgenvoll', 'ekel', 'ekeln', 'angeekelt', 'neid', 'neidisch', 'neidvoll',\n",
    "           'glücklich', 'glück', 'freude', 'freudig', 'freuen', 'erleichterung', 'erleichtert', 'vergnügt', 'vergnügen',\n",
    "           'zufrieden', 'zufriedenheit', 'verzweiflung', 'verzweifelt', 'verlegenheit', 'verlegen', 'aufregung',\n",
    "           'aufgeregt', 'aufregen', 'spannung', 'gespannt', 'erregung', 'erregt', 'hoffen', 'hoffnung', 'befriedigt',\n",
    "           'langweilig', 'langeweile', 'mitgefühl', 'mitfühlen', 'enttäuscht', 'enttäuschung', 'frust', 'frustriert',\n",
    "           'eifersucht', 'eifersüchtig', 'wut', 'wütend', 'reue', 'schock', 'schockiert', 'zuneigung', 'verärgert',\n",
    "           'verärgerung', 'erwartungsvoll', 'erwartung', 'vorfreude', 'scheu', 'gelassen', 'gelassenheit', 'mut',\n",
    "           'mutig', 'neugierde', 'neugierig', 'depression', 'depressiv', 'niedergeschlagenheit', 'niedergeschlagen',\n",
    "           'lustvoll', 'lust', 'rausch', 'einfühlend', 'einfühlsam', 'euphorisch', 'euphorie', 'dankbarkeit', 'dankbar',\n",
    "           'hass', 'entsetzt', 'entsetzen', 'demütigung', 'demütig', 'demut', 'interesse', 'interessiert', 'einsamkeit',\n",
    "           'einsam', 'empörung', 'empört', 'vertrauen', 'qualvoll', 'qual', 'gleichgültigkeit', 'gleichgültig',\n",
    "           'fröhlichkeit', 'fröhlich', 'schadenfroh', 'schadenfreude', 'schmerz', 'melancholie', 'melancholisch',\n",
    "           'panik', 'panisch']\n",
    "\n",
    "sentences = []\n",
    "\n",
    "inpath = '/home/piah/Dokumente/Uni/Projektarbeit/Projektarbeit_LyrikGattungszuweisung/corpus/corpus/gesamt/'\n",
    "\n",
    "for text in os.listdir(inpath):\n",
    "    if text.endswith('.txt'):\n",
    "        f_lemma = []\n",
    "        result = ''\n",
    "        t = open(inpath + '/' + text, 'r')\n",
    "        f = t.read()\n",
    "\n",
    "\n",
    "for files in f:\n",
    "    for paragraph in segmenter.process(f):\n",
    "        for sentence in paragraph:\n",
    "            tokens = [str(token).strip() for token in sentence]\n",
    "            for emo in emotion:\n",
    "                if emo in tokens:\n",
    "                    index = tokens.index(emo)\n",
    "                    sentences.append({\"sentence\": tokens, \"index\": index, \"source\":file, \"emotion\": emotion})\n",
    "print(sentence)"
   ]
  },
  {
   "cell_type": "markdown",
   "metadata": {},
   "source": [
    "## Wortvektoren generieren"
   ]
  },
  {
   "cell_type": "code",
   "execution_count": 4,
   "metadata": {},
   "outputs": [],
   "source": [
    "embedding = TransformerWordEmbeddings(\"redewiedergabe/bert-base-historical-german-rw-cased\")"
   ]
  },
  {
   "cell_type": "code",
   "execution_count": 5,
   "metadata": {},
   "outputs": [],
   "source": [
    "for example in sentences:\n",
    "    text = \" \".join(example[\"sentence\"])\n",
    "    sentence = Sentence(text, use_tokenizer=False)\n",
    "    embedding.embed(sentence)\n",
    "    \n",
    "    token = sentence[example[\"index\"]]\n",
    "    example[\"vector\"] = [float(dim) for dim in token.embedding]"
   ]
  },
  {
   "cell_type": "markdown",
   "metadata": {},
   "source": [
    "## Positive und negative Wortumgebung"
   ]
  },
  {
   "cell_type": "code",
   "execution_count": 7,
   "metadata": {},
   "outputs": [
    {
     "name": "stdout",
     "output_type": "stream",
     "text": [
      "Positive Worte: 500\n",
      "Negative Worte: 500\n"
     ]
    }
   ],
   "source": [
    "words = {}\n",
    "\n",
    "with open(\"/home/piah/Dokumente/Uni/Projektarbeit/Projektarbeit_LyrikGattungszuweisung/scripts/wordembedding/Wortlisten/Positiv.txt\", \"r\", encoding=\"utf-8\") as f:\n",
    "    words[\"positiv\"] = random.sample([f\"Die Emotion ist {word}\" for word in f.read().split(\"\\n\")], 500)\n",
    "    \n",
    "with open(\"/home/piah/Dokumente/Uni/Projektarbeit/Projektarbeit_LyrikGattungszuweisung/scripts/wordembedding/Wortlisten/Negativ.txt\", \"r\", encoding=\"utf-8\") as f:\n",
    "    words[\"negativ\"] = random.sample([f\"Die Emotion ist {word}\" for word in f.read().split(\"\\n\")], 500)\n",
    "    \n",
    "print(f\"Positive Worte: {len(words['positiv'])}\")\n",
    "print(f\"Negative Worte: {len(words['negativ'])}\")"
   ]
  },
  {
   "cell_type": "code",
   "execution_count": 8,
   "metadata": {},
   "outputs": [],
   "source": [
    "positive = []\n",
    "negative = []\n",
    "\n",
    "for word in words[\"positiv\"]:\n",
    "    sentence = Sentence(word, use_tokenizer=False)\n",
    "    embedding.embed(sentence)\n",
    "\n",
    "    token = sentence[2]\n",
    "    positive.append([float(dim) for dim in token.embedding])\n",
    "\n",
    "for word in words[\"negativ\"]:\n",
    "    sentence = Sentence(word, use_tokenizer=False)\n",
    "    embedding.embed(sentence)\n",
    "\n",
    "    token = sentence[2]\n",
    "    negative.append([float(dim) for dim in token.embedding])"
   ]
  },
  {
   "cell_type": "markdown",
   "metadata": {},
   "source": [
    "## Ähnlichkeiten"
   ]
  },
  {
   "cell_type": "code",
   "execution_count": 9,
   "metadata": {},
   "outputs": [],
   "source": [
    "for sentence in sentences:\n",
    "    positive_scores = []\n",
    "    negative_scores = []\n",
    "\n",
    "    for vector in positive:\n",
    "        positive_scores.append(1 - spatial.distance.cosine(sentence[\"vector\"], vector))\n",
    "    for vector in negative:\n",
    "        negative_scores.append(1 - spatial.distance.cosine(sentence[\"vector\"], vector))\n",
    "    \n",
    "    sentence[\"positive_mean\"] = statistics.mean(positive_scores)\n",
    "    sentence[\"negative_mean\"] = statistics.mean(negative_scores)\n",
    "    sentence[\"absolute_difference\"] = abs(sentence[\"positive_mean\"] - sentence[\"negative_mean\"])"
   ]
  },
  {
   "cell_type": "markdown",
   "metadata": {},
   "source": [
    "# Visualisierung"
   ]
  },
  {
   "cell_type": "code",
   "execution_count": 2,
   "metadata": {},
   "outputs": [],
   "source": [
    "from pathlib import Path\n",
    "import pandas as pd\n",
    "import numpy as np\n",
    "import seaborn as sns\n",
    "from flair.embeddings import TransformerDocumentEmbeddings\n",
    "from flair.data import Sentence\n",
    "from sklearn.cluster import KMeans\n",
    "from sklearn.manifold import TSNE\n",
    "from sklearn.decomposition import PCA\n",
    "from sklearn.metrics.cluster import adjusted_rand_score"
   ]
  },
  {
   "cell_type": "markdown",
   "metadata": {},
   "source": [
    "### Read corpora"
   ]
  },
  {
   "cell_type": "code",
   "execution_count": 3,
   "metadata": {},
   "outputs": [],
   "source": [
    "data = [{\"class\": \"Ballade\", \"text\": file.read_text()} for file in Path(\"Balladen\").glob(\"*.txt\")]\n",
    "data.extend([{\"class\": \"Lied\", \"text\": file.read_text()} for file in Path(\"Lieder\").glob(\"*.txt\")])"
   ]
  },
  {
   "cell_type": "markdown",
   "metadata": {},
   "source": [
    "### Load document embedding"
   ]
  },
  {
   "cell_type": "code",
   "execution_count": 4,
   "metadata": {},
   "outputs": [],
   "source": [
    "embedding = TransformerDocumentEmbeddings(\"redewiedergabe/bert-base-historical-german-rw-cased\")"
   ]
  },
  {
   "cell_type": "markdown",
   "metadata": {},
   "source": [
    "### Get document embeddings"
   ]
  },
  {
   "cell_type": "code",
   "execution_count": 5,
   "metadata": {},
   "outputs": [],
   "source": [
    "vectors = []\n",
    "labels = []\n",
    "\n",
    "for document in data:\n",
    "    sentence = Sentence(document[\"text\"])\n",
    "    embedding.embed(sentence)\n",
    "    vectors.append(sentence.embedding.tolist())\n",
    "    labels.append(document[\"class\"])\n",
    "    \n",
    "vectors = np.array(vectors)"
   ]
  },
  {
   "cell_type": "markdown",
   "metadata": {},
   "source": [
    "### Visualize with PCA"
   ]
  },
  {
   "cell_type": "code",
   "execution_count": 6,
   "metadata": {},
   "outputs": [],
   "source": [
    "pca = PCA(n_components=2)\n",
    "components = pca.fit_transform(vectors)"
   ]
  },
  {
   "cell_type": "code",
   "execution_count": 7,
   "metadata": {},
   "outputs": [
    {
     "data": {
      "text/plain": [
       "<AxesSubplot:xlabel='Component 1', ylabel='Component 2'>"
      ]
     },
     "execution_count": 7,
     "metadata": {},
     "output_type": "execute_result"
    },
    {
     "data": {
      "image/png": "[encoded data removed]",
      "text/plain": [
       "<Figure size 432x288 with 1 Axes>"
      ]
     },
     "metadata": {
      "needs_background": "light"
     },
     "output_type": "display_data"
    }
   ],
   "source": [
    "df = pd.DataFrame(components)\n",
    "df[\"Label\"] = labels\n",
    "df.columns = [\"Component 1\", \"Component 2\", \"Label\"]\n",
    "sns.scatterplot(x=\"Component 1\", y=\"Component 2\", data=df, hue=\"Label\")"
   ]
  },
  {
   "cell_type": "markdown",
   "metadata": {},
   "source": [
    "### Visualize with t-SNE"
   ]
  },
  {
   "cell_type": "code",
   "execution_count": 8,
   "metadata": {},
   "outputs": [],
   "source": [
    "tsne = TSNE(n_components=2, random_state=0)\n",
    "embedded = tsne.fit_transform(vectors)"
   ]
  },
  {
   "cell_type": "code",
   "execution_count": 9,
   "metadata": {},
   "outputs": [
    {
     "data": {
      "text/plain": [
       "<AxesSubplot:xlabel='Dimension 1', ylabel='Dimension 2'>"
      ]
     },
     "execution_count": 9,
     "metadata": {},
     "output_type": "execute_result"
    },
    {
     "data": {
      "image/png": "[encoded data removed]",
      "text/plain": [
       "<Figure size 432x288 with 1 Axes>"
      ]
     },
     "metadata": {
      "needs_background": "light"
     },
     "output_type": "display_data"
    }
   ],
   "source": [
    "df = pd.DataFrame(embedded)\n",
    "df[\"Label\"] = labels\n",
    "df.columns = [\"Dimension 1\", \"Dimension 2\", \"Label\"]\n",
    "sns.scatterplot(x=\"Dimension 1\", y=\"Dimension 2\", data=df, hue=\"Label\")"
   ]
  },
  {
   "cell_type": "markdown",
   "metadata": {},
   "source": [
    "### k-Means clustering"
   ]
  },
  {
   "cell_type": "code",
   "execution_count": 10,
   "metadata": {},
   "outputs": [
    {
     "data": {
      "text/plain": [
       "KMeans(n_clusters=2, random_state=0)"
      ]
     },
     "execution_count": 10,
     "metadata": {},
     "output_type": "execute_result"
    }
   ],
   "source": [
    "kmeans = KMeans(n_clusters=2, random_state=0)\n",
    "kmeans.fit(vectors)"
   ]
  },
  {
   "cell_type": "code",
   "execution_count": 11,
   "metadata": {},
   "outputs": [
    {
     "data": {
      "text/plain": [
       "0.07182582745523611"
      ]
     },
     "execution_count": 11,
     "metadata": {},
     "output_type": "execute_result"
    }
   ],
   "source": [
    "adjusted_rand_score(labels, kmeans.labels_)"
   ]
  }
 ],
 "metadata": {
  "kernelspec": {
   "display_name": "Python 3",
   "language": "python",
   "name": "python3"
  },
  "language_info": {
   "codemirror_mode": {
    "name": "ipython",
    "version": 3
   },
   "file_extension": ".py",
   "mimetype": "text/x-python",
   "name": "python",
   "nbconvert_exporter": "python",
   "pygments_lexer": "ipython3",
   "version": "3.8.6"
  }
 },
 "nbformat": 4,
 "nbformat_minor": 4
}
